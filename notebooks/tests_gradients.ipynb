{
 "cells": [
  {
   "attachments": {},
   "cell_type": "markdown",
   "metadata": {},
   "source": [
    "#### Gradient tape evaluation\n",
    "\n",
    "Finite difference to get the derivative with numerical methods (I assume given the results that this is exactly what *tensorflow* does) "
   ]
  },
  {
   "cell_type": "code",
   "execution_count": 20,
   "metadata": {},
   "outputs": [
    {
     "name": "stdout",
     "output_type": "stream",
     "text": [
      "The autoreload extension is already loaded. To reload it, use:\n",
      "  %reload_ext autoreload\n"
     ]
    }
   ],
   "source": [
    "%load_ext autoreload\n",
    "%autoreload 2\n",
    "import os\n",
    "import numpy as np\n",
    "import pandas as pd\n",
    "# Custom utils\n",
    "from utils.utils.utils import FinanceUtils, ZeroBound\n",
    "from utils.simulator.simulator import MCSimulation\n",
    "# Tf imports\n",
    "import tensorflow as tf\n",
    "from tensorflow.keras import layers\n",
    "from tensorflow import keras"
   ]
  },
  {
   "cell_type": "code",
   "execution_count": 67,
   "metadata": {},
   "outputs": [],
   "source": [
    "def custom_derivative(x, mode = 'centered'):\n",
    "    h = 1e-10\n",
    "    # Constantes:\n",
    "    T = 1\n",
    "    ct = FinanceUtils.C(T, sigma = FinanceUtils.sigma)\n",
    "    denominator = h\n",
    "    if mode == 'progressive':\n",
    "        numerator = FinanceUtils.zero_bond_coupon_np(x + h, T, ct) - FinanceUtils.zero_bond_coupon_np(x, T , ct)\n",
    "    elif mode == 'regressive':\n",
    "        numerator = FinanceUtils.zero_bond_coupon_np(x, T, ct) - FinanceUtils.zero_bond_coupon_np(x - h, T, ct)\n",
    "    elif mode == 'centered':\n",
    "        numerator = FinanceUtils.zero_bond_coupon_np(x + h, T , ct) - FinanceUtils.zero_bond_coupon_np(x - h, T, ct)\n",
    "        denominator = 2 * h\n",
    "    return numerator / denominator"
   ]
  },
  {
   "cell_type": "code",
   "execution_count": 71,
   "metadata": {},
   "outputs": [],
   "source": [
    "x = np.linspace(0, 1)\n",
    "xt = tf.Variable(x, trainable=True, name = 'xn')\n",
    "tn = tf.Variable(np.array([np.float64(1.0)] * len(x)), name = 'tn', trainable = False)\n",
    "ct = tf.Variable(\n",
    "    np.array([np.float64(FinanceUtils.C(1.0, sigma = FinanceUtils.sigma))] * len(x)), \n",
    "    trainable=False\n",
    ")\n",
    "# Autodiff f\n",
    "with tf.GradientTape() as tape:\n",
    "    y = FinanceUtils.zero_bond_coupon(xt, tn, ct)\n",
    "grad_df = tape.gradient(y, {\n",
    "    'xn':xt\n",
    "})\n",
    "tf_grads = grad_df['xn'].numpy()"
   ]
  },
  {
   "cell_type": "code",
   "execution_count": 72,
   "metadata": {},
   "outputs": [
    {
     "data": {
      "image/png": "[encoded data removed]",
      "text/plain": [
       "<Figure size 1000x400 with 1 Axes>"
      ]
     },
     "metadata": {},
     "output_type": "display_data"
    }
   ],
   "source": [
    "T = 1\n",
    "ct = FinanceUtils.C(T, sigma = FinanceUtils.sigma)\n",
    "coupons = FinanceUtils.zero_bond_coupon_np(x, T , ct)\n",
    "derivative = custom_derivative(x)\n",
    "import matplotlib.pyplot as plt\n",
    "import seaborn as sns\n",
    "plt.figure(\n",
    "    figsize = (10,4)\n",
    ")\n",
    "sns.lineplot(\n",
    "    x = x,\n",
    "    y = coupons,\n",
    "    color = 'blue'\n",
    ")\n",
    "sns.lineplot(\n",
    "    x = x,\n",
    "    y = derivative,\n",
    "    color = 'red'\n",
    ")\n",
    "sns.lineplot(\n",
    "    x = x,\n",
    "    y = tf_grads,\n",
    "    color = 'green'\n",
    ")\n",
    "plt.show()"
   ]
  },
  {
   "cell_type": "code",
   "execution_count": null,
   "metadata": {},
   "outputs": [],
   "source": []
  }
 ],
 "metadata": {
  "kernelspec": {
   "display_name": ".venv",
   "language": "python",
   "name": "python3"
  },
  "language_info": {
   "codemirror_mode": {
    "name": "ipython",
    "version": 3
   },
   "file_extension": ".py",
   "mimetype": "text/x-python",
   "name": "python",
   "nbconvert_exporter": "python",
   "pygments_lexer": "ipython3",
   "version": "3.9.0"
  },
  "orig_nbformat": 4,
  "vscode": {
   "interpreter": {
    "hash": "4f7acd489409a1a7cdda0aabc26b8ff7e1266ab2afa52b78ec63ef40f33e0082"
   }
  }
 },
 "nbformat": 4,
 "nbformat_minor": 2
}
