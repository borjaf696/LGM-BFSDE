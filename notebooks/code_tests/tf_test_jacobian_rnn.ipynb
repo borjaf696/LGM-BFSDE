{
 "cells": [
  {
   "cell_type": "code",
   "execution_count": 1,
   "metadata": {},
   "outputs": [
    {
     "name": "stderr",
     "output_type": "stream",
     "text": [
      "2023-04-20 10:38:32.572833: I tensorflow/core/platform/cpu_feature_guard.cc:193] This TensorFlow binary is optimized with oneAPI Deep Neural Network Library (oneDNN) to use the following CPU instructions in performance-critical operations:  AVX2 AVX512F AVX512_VNNI FMA\n",
      "To enable them in other operations, rebuild TensorFlow with the appropriate compiler flags.\n"
     ]
    }
   ],
   "source": [
    "%load_ext autoreload\n",
    "%autoreload 2\n",
    "import os\n",
    "import sys\n",
    "\n",
    "import os\n",
    "import numpy as np\n",
    "import pandas as pd\n",
    "# Custom utils\n",
    "from utils.simulator.simulator import MCSimulation\n",
    "# Tf imports\n",
    "import tensorflow as tf\n",
    "from tensorflow.keras import layers\n",
    "from tensorflow import keras"
   ]
  },
  {
   "cell_type": "code",
   "execution_count": 63,
   "metadata": {},
   "outputs": [],
   "source": [
    "def custom_derivative_model(x, model, multioutput = True, mode = 'centered'):\n",
    "    h = 1e-1\n",
    "    # Size x\n",
    "    x_dim, y_dim, z_dim = x.shape\n",
    "    print(f'Dimensions: {x_dim}, {y_dim}, {z_dim}')\n",
    "    # Gradient vector\n",
    "    gradient = np.zeros((x_dim, y_dim, z_dim))\n",
    "    for i in range(z_dim):\n",
    "        for j in range(y_dim):\n",
    "            # Vector for partial derivative estimation\n",
    "            offset_tensor = np.zeros((x_dim, y_dim, z_dim))\n",
    "            offset_tensor[:, j, i] = h\n",
    "            offset_tensor = tf.convert_to_tensor(offset_tensor,\n",
    "                                                dtype = tf.float32)\n",
    "            # Constantes:\n",
    "            denominator = h\n",
    "            numerator = tf.math.subtract(\n",
    "                model(\n",
    "                    tf.math.add(x, offset_tensor)\n",
    "                ), model(\n",
    "                    tf.math.subtract(x, offset_tensor)\n",
    "                )\n",
    "            )\n",
    "            denominator = 2 * h\n",
    "            gradient[:, j, i] = numerator[:, j, 0] / denominator\n",
    "    gradient = tf.convert_to_tensor(gradient,\n",
    "                                        dtype = tf.float32)\n",
    "    return gradient"
   ]
  },
  {
   "cell_type": "code",
   "execution_count": 33,
   "metadata": {},
   "outputs": [],
   "source": [
    "input_layer = keras.Input(shape = (10, 2), name='input_nn')\n",
    "output_layer = layers.GRU(1, \n",
    "                dropout = 0.0,\n",
    "                input_shape = (10, 2),\n",
    "                return_sequences = True,\n",
    "                name = 'sequential_layer')(input_layer)\n",
    "custom_model = keras.Model(\n",
    "    inputs=[input_layer],\n",
    "    outputs=[output_layer],\n",
    "    name = 'test_model'\n",
    ")"
   ]
  },
  {
   "cell_type": "code",
   "execution_count": 94,
   "metadata": {},
   "outputs": [
    {
     "name": "stdout",
     "output_type": "stream",
     "text": [
      "Execution time: 2.752671003341675\n"
     ]
    }
   ],
   "source": [
    "x = tf.convert_to_tensor(\n",
    "    np.array(range(-30,30)).reshape((3, 10, 2)),\n",
    "    dtype = tf.float32    \n",
    ")\n",
    "# Test \n",
    "import time\n",
    "tf_start = time.time()\n",
    "xs = tf.Variable(x, trainable = True, name = 'x')\n",
    "with tf.GradientTape() as tape, tf.GradientTape() as tape_2:\n",
    "    tape.watch(xs)\n",
    "    tape_2.watch(xs)\n",
    "    y = custom_model(xs)\n",
    "# This represents dV/dX\n",
    "grads = tape.gradient(y, {\n",
    "    'x':xs\n",
    "})\n",
    "jacobian = tape_2.jacobian(y, {\n",
    "    'x':xs\n",
    "})\n",
    "tf_end = time.time()\n",
    "print(f'Execution time: {tf_end - tf_start}')"
   ]
  },
  {
   "cell_type": "code",
   "execution_count": 76,
   "metadata": {},
   "outputs": [
    {
     "name": "stdout",
     "output_type": "stream",
     "text": [
      "Dimensions: 3, 10, 2\n",
      "Execution time custom: 0.7661120891571045\n"
     ]
    }
   ],
   "source": [
    "custom_start = time.time()\n",
    "custom_grads = custom_derivative_model(x, custom_model)\n",
    "custom_end = time.time()\n",
    "print(f'Execution time custom: {custom_end - custom_start}')"
   ]
  },
  {
   "cell_type": "code",
   "execution_count": 77,
   "metadata": {},
   "outputs": [
    {
     "data": {
      "text/plain": [
       "<tf.Tensor: shape=(3, 10, 2), dtype=float32, numpy=\n",
       "array([[[ 0.0000000e+00,  0.0000000e+00],\n",
       "        [ 0.0000000e+00,  0.0000000e+00],\n",
       "        [ 0.0000000e+00,  0.0000000e+00],\n",
       "        [ 0.0000000e+00,  0.0000000e+00],\n",
       "        [ 0.0000000e+00,  0.0000000e+00],\n",
       "        [ 0.0000000e+00,  0.0000000e+00],\n",
       "        [ 0.0000000e+00,  0.0000000e+00],\n",
       "        [ 0.0000000e+00,  0.0000000e+00],\n",
       "        [ 0.0000000e+00,  0.0000000e+00],\n",
       "        [ 0.0000000e+00,  0.0000000e+00]],\n",
       "\n",
       "       [[-8.0466270e-06, -8.6426735e-06],\n",
       "        [ 0.0000000e+00,  0.0000000e+00],\n",
       "        [ 0.0000000e+00,  0.0000000e+00],\n",
       "        [-3.8743019e-06, -3.8743019e-06],\n",
       "        [-4.8765540e-03, -4.5439601e-03],\n",
       "        [-1.7523952e-01, -1.1631742e-01],\n",
       "        [ 3.6832020e-02,  3.9323568e-02],\n",
       "        [ 3.5028160e-03,  3.7398934e-03],\n",
       "        [ 3.3251941e-04,  3.5494566e-04],\n",
       "        [ 3.1292439e-05,  3.3676624e-05]],\n",
       "\n",
       "       [[ 2.3841858e-06,  2.6822090e-06],\n",
       "        [ 2.9802095e-07,  2.9802095e-07],\n",
       "        [ 0.0000000e+00,  0.0000000e+00],\n",
       "        [ 0.0000000e+00,  0.0000000e+00],\n",
       "        [ 0.0000000e+00,  0.0000000e+00],\n",
       "        [ 0.0000000e+00,  0.0000000e+00],\n",
       "        [ 0.0000000e+00,  0.0000000e+00],\n",
       "        [ 0.0000000e+00,  0.0000000e+00],\n",
       "        [ 0.0000000e+00,  0.0000000e+00],\n",
       "        [ 0.0000000e+00,  0.0000000e+00]]], dtype=float32)>"
      ]
     },
     "execution_count": 77,
     "metadata": {},
     "output_type": "execute_result"
    }
   ],
   "source": [
    "custom_grads"
   ]
  },
  {
   "cell_type": "code",
   "execution_count": 81,
   "metadata": {},
   "outputs": [
    {
     "data": {
      "text/plain": [
       "<tf.Tensor: shape=(10, 2), dtype=float32, numpy=\n",
       "array([[0., 0.],\n",
       "       [0., 0.],\n",
       "       [0., 0.],\n",
       "       [0., 0.],\n",
       "       [0., 0.],\n",
       "       [0., 0.],\n",
       "       [0., 0.],\n",
       "       [0., 0.],\n",
       "       [0., 0.],\n",
       "       [0., 0.]], dtype=float32)>"
      ]
     },
     "execution_count": 81,
     "metadata": {},
     "output_type": "execute_result"
    }
   ],
   "source": [
    "jacobian['x'][0, -1, 0, 0]"
   ]
  },
  {
   "cell_type": "code",
   "execution_count": 92,
   "metadata": {},
   "outputs": [
    {
     "data": {
      "text/plain": [
       "<tf.Tensor: shape=(10, 2), dtype=float32, numpy=\n",
       "array([[-1.07120267e-16, -1.14354557e-16],\n",
       "       [-1.07125673e-16, -1.14360327e-16],\n",
       "       [ 0.00000000e+00,  0.00000000e+00],\n",
       "       [-8.91347725e-08, -8.84875675e-08],\n",
       "       [-1.49133196e-03, -1.39120524e-03],\n",
       "       [-1.55786052e-01, -1.03299230e-01],\n",
       "       [ 3.64329405e-02,  3.88953574e-02],\n",
       "       [ 3.49746319e-03,  3.73366172e-03],\n",
       "       [ 3.32202093e-04,  3.54637101e-04],\n",
       "       [ 3.15361540e-05,  3.36659214e-05]], dtype=float32)>"
      ]
     },
     "execution_count": 92,
     "metadata": {},
     "output_type": "execute_result"
    }
   ],
   "source": [
    "jacobian['x'][1, -1, 0, 1]"
   ]
  },
  {
   "cell_type": "code",
   "execution_count": null,
   "metadata": {},
   "outputs": [],
   "source": []
  }
 ],
 "metadata": {
  "kernelspec": {
   "display_name": ".venv",
   "language": "python",
   "name": "python3"
  },
  "language_info": {
   "codemirror_mode": {
    "name": "ipython",
    "version": 3
   },
   "file_extension": ".py",
   "mimetype": "text/x-python",
   "name": "python",
   "nbconvert_exporter": "python",
   "pygments_lexer": "ipython3",
   "version": "3.10.9"
  },
  "orig_nbformat": 4,
  "vscode": {
   "interpreter": {
    "hash": "1b391e97e35ec4987120a2f780cd64183fdb56c026e5a7e01d3347b3d6528b2a"
   }
  }
 },
 "nbformat": 4,
 "nbformat_minor": 2
}
