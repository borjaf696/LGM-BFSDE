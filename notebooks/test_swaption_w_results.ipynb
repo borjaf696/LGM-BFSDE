{
 "cells": [
  {
   "cell_type": "code",
   "execution_count": null,
   "metadata": {},
   "outputs": [],
   "source": [
    "import sys, os\n",
    "\n",
    "relative_path = os.path.join(\"..\")\n",
    "print(f\"Relative path: {relative_path}\")\n",
    "sys.path.append(os.path.abspath(relative_path))\n",
    "valid_paths = [p for p in sys.path if os.path.exists(p)]\n",
    "print(f\"Valid paths: {valid_paths}\")\n",
    "\n",
    "import pandas as pd\n",
    "epochs = 25\n",
    "batch_size = 64\n",
    "folder = \"1.6M\"\n",
    "sample_size = 1600000\n",
    "decay = 0.999995\n",
    "T = 1\n",
    "Tm = 4\n",
    "steps = 96\n",
    "df_swaption = pd.read_csv(f\"../data/export/swaption/tf_exp/batch_exp/{folder}/swaption_1_normalize_True_test_results_sigma_0.01_dim_1_{T}_{Tm}_{sample_size}_{steps * T}_epochs_{epochs}_bs_{batch_size}_decay_{decay}.csv\")"
   ]
  },
  {
   "cell_type": "code",
   "execution_count": null,
   "metadata": {},
   "outputs": [],
   "source": [
    "from scripts.utils.utils.utils import (\n",
    "    VisualizationHelper\n",
    ")\n",
    "for i in range(10):\n",
    "    VisualizationHelper.plot_multiple_series(\n",
    "        df = df_swaption.loc[df_swaption.sim==i],\n",
    "        x = \"dt\",\n",
    "        values_column = [\"V\", \"V_est\"],\n",
    "        title = f\"Comparison real vs predicted (swaption) Path: {i}\",\n",
    "        xlabel = \"dt\",\n",
    "        ylabel = \"V\"\n",
    "    )"
   ]
  },
  {
   "cell_type": "code",
   "execution_count": null,
   "metadata": {},
   "outputs": [],
   "source": []
  }
 ],
 "metadata": {
  "kernelspec": {
   "display_name": ".venv",
   "language": "python",
   "name": "python3"
  },
  "language_info": {
   "codemirror_mode": {
    "name": "ipython",
    "version": 3
   },
   "file_extension": ".py",
   "mimetype": "text/x-python",
   "name": "python",
   "nbconvert_exporter": "python",
   "pygments_lexer": "ipython3",
   "version": "3.11.7"
  }
 },
 "nbformat": 4,
 "nbformat_minor": 2
}
