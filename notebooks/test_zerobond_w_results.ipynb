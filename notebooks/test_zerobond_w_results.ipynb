{
 "cells": [
  {
   "cell_type": "code",
   "execution_count": null,
   "metadata": {},
   "outputs": [],
   "source": [
    "import sys, os\n",
    "\n",
    "relative_path = os.path.join(\"..\")\n",
    "print(f\"Relative path: {relative_path}\")\n",
    "sys.path.append(os.path.abspath(relative_path))\n",
    "valid_paths = [p for p in sys.path if os.path.exists(p)]\n",
    "print(f\"Valid paths: {valid_paths}\")\n",
    "\n",
    "import pandas as pd\n",
    "batch_size = 4\n",
    "folder = \"160k\"\n",
    "sample_size = 160000\n",
    "decay = 0.995\n",
    "df_irs = pd.read_csv(f\"../data/export/zerobond/tf_exp/batch_exp/{folder}/zerobond_1_normalize_True_test_results_sigma_0.01_dim_1_4_8_{sample_size}_192_epochs_25_bs_{batch_size}_decay_{decay}.csv\")"
   ]
  },
  {
   "cell_type": "code",
   "execution_count": null,
   "metadata": {},
   "outputs": [],
   "source": [
    "from scripts.utils.utils.utils import (\n",
    "    VisualizationHelper\n",
    ")\n",
    "for i in range(10):\n",
    "    VisualizationHelper.plot_multiple_series(\n",
    "        df = df_zbc.loc[df_zbc.sim==i],\n",
    "        x = \"dt\",\n",
    "        values_column = [\"V\", \"V_est\"],\n",
    "        title = f\"Comparison real vs predicted (zerobond) Path: {i}\",\n",
    "        xlabel = \"dt\",\n",
    "        ylabel = \"V\"\n",
    "    )"
   ]
  },
  {
   "cell_type": "code",
   "execution_count": null,
   "metadata": {},
   "outputs": [],
   "source": []
  }
 ],
 "metadata": {
  "kernelspec": {
   "display_name": ".venv",
   "language": "python",
   "name": "python3"
  },
  "language_info": {
   "codemirror_mode": {
    "name": "ipython",
    "version": 3
   },
   "file_extension": ".py",
   "mimetype": "text/x-python",
   "name": "python",
   "nbconvert_exporter": "python",
   "pygments_lexer": "ipython3",
   "version": "3.11.7"
  }
 },
 "nbformat": 4,
 "nbformat_minor": 2
}
