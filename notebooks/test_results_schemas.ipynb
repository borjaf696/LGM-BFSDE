{
 "cells": [
  {
   "cell_type": "code",
   "execution_count": null,
   "metadata": {},
   "outputs": [],
   "source": [
    "import pandas as pd\n",
    "import numpy as np\n",
    "T = 1\n",
    "nsteps = 48 * T\n",
    "files = [\n",
    "    f'../data/export/test/zerobond_1_normalize_True_test_results_sigma_0.01_{T}_1000_{nsteps}.csv'\n",
    "]\n",
    "schemas = [\n",
    "    1,\n",
    "]\n",
    "test_df = pd.DataFrame()\n",
    "for i, file in enumerate(files):\n",
    "    test_df_tmp = pd.read_csv(\n",
    "        file\n",
    "    )\n",
    "    test_df_tmp['schema'] = schemas[i]\n",
    "    # Concat\n",
    "    test_df = pd.concat(\n",
    "        [\n",
    "            test_df,\n",
    "            test_df_tmp\n",
    "        ]\n",
    "    )\n",
    "# Relative error\n",
    "test_df['pae'] = np.abs(test_df['V_est'] - test_df['V'])/test_df['V']"
   ]
  },
  {
   "cell_type": "code",
   "execution_count": null,
   "metadata": {},
   "outputs": [],
   "source": [
    "import seaborn as sns\n",
    "import matplotlib.pyplot as plt\n",
    "\n",
    "plt.figure(\n",
    "    figsize = (10, 5)\n",
    ")\n",
    "sns.boxplot(\n",
    "    x = 'dt',\n",
    "    y = 'xt',\n",
    "    data = test_df, \n",
    "    hue = 'schema',\n",
    "    showfliers = False\n",
    ")\n",
    "plt.xticks(\n",
    "    rotation = 90\n",
    ")\n",
    "plt.show()"
   ]
  },
  {
   "cell_type": "code",
   "execution_count": null,
   "metadata": {},
   "outputs": [],
   "source": [
    "plt.figure(\n",
    "    figsize = (10, 5)\n",
    ")\n",
    "sns.boxplot(\n",
    "    x = 'dt',\n",
    "    y = 'V',\n",
    "    data = test_df, \n",
    "    hue = 'schema',\n",
    "    showfliers = False\n",
    ")\n",
    "plt.xticks(\n",
    "    rotation = 90\n",
    ")\n",
    "plt.show()"
   ]
  },
  {
   "cell_type": "code",
   "execution_count": null,
   "metadata": {},
   "outputs": [],
   "source": [
    "plt.figure(\n",
    "    figsize = (10, 5)\n",
    ")\n",
    "sns.boxplot(\n",
    "    x = 'dt',\n",
    "    y = 'V_est',\n",
    "    data = test_df, \n",
    "    hue = 'schema',\n",
    "    showfliers = False\n",
    ")\n",
    "plt.xticks(\n",
    "    rotation = 90\n",
    ")\n",
    "plt.show()"
   ]
  },
  {
   "cell_type": "code",
   "execution_count": null,
   "metadata": {},
   "outputs": [],
   "source": [
    "plt.figure(\n",
    "    figsize = (15, 5)\n",
    ")\n",
    "sns.boxplot(\n",
    "    x = 'dt',\n",
    "    y = 'pae',\n",
    "    data = test_df,\n",
    "    hue = 'schema',\n",
    "    showfliers = False\n",
    ")\n",
    "plt.xticks(\n",
    "    rotation = 90\n",
    ")\n",
    "plt.show()"
   ]
  },
  {
   "cell_type": "code",
   "execution_count": null,
   "metadata": {},
   "outputs": [],
   "source": []
  }
 ],
 "metadata": {
  "kernelspec": {
   "display_name": ".venv",
   "language": "python",
   "name": "python3"
  },
  "language_info": {
   "codemirror_mode": {
    "name": "ipython",
    "version": 3
   },
   "file_extension": ".py",
   "mimetype": "text/x-python",
   "name": "python",
   "nbconvert_exporter": "python",
   "pygments_lexer": "ipython3",
   "version": "3.9.13"
  },
  "orig_nbformat": 4
 },
 "nbformat": 4,
 "nbformat_minor": 2
}
