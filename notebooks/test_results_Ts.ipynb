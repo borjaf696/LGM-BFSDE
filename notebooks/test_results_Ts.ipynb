{
 "cells": [
  {
   "cell_type": "code",
   "execution_count": null,
   "metadata": {},
   "outputs": [],
   "source": [
    "import pandas as pd\n",
    "import numpy as np\n",
    "import matplotlib.pyplot as plt\n",
    "import seaborn as sns\n",
    "\n",
    "nsteps = 48\n",
    "files = [\n",
    "    f'../data/export/test/zerobond_results_T/zerobond_1_normalize_True_test_results_sigma_0.01_dim_1_{t}_5000_{t * nsteps}_epochs_1500.csv'\n",
    "    for t in [1, 2, 4, 6, 7, 8]\n",
    "]\n",
    "Ts = [\n",
    "    1, 2, 4, 6, 7, 8\n",
    "]\n",
    "test_df = pd.DataFrame()\n",
    "for i, file in enumerate(files):\n",
    "    test_df_tmp = pd.read_csv(\n",
    "        file\n",
    "    )\n",
    "    test_df_tmp[\"T\"] = Ts[i]\n",
    "    # Concat\n",
    "    test_df = pd.concat(\n",
    "        [\n",
    "            test_df,\n",
    "            test_df_tmp\n",
    "        ]\n",
    "    )\n",
    "# Relative error\n",
    "test_df['pae'] = np.abs(test_df['V_est'] - test_df['V'])/test_df['V']\n",
    "# Groupby\n",
    "test_df_grouped = test_df.groupby(\n",
    "    [\n",
    "        \"T\",\n",
    "        \"dt\"\n",
    "    ]\n",
    ").agg(\n",
    "    mape = (\n",
    "        \"pae\",\n",
    "        \"mean\"\n",
    "    ),\n",
    "    mape_std = (\n",
    "        \"pae\",\n",
    "        \"std\"\n",
    "    )\n",
    ").reset_index()\n",
    "test_df_grouped[\"mape+2*std\"] = test_df_grouped.mape + 2 * test_df_grouped.mape_std"
   ]
  },
  {
   "cell_type": "code",
   "execution_count": null,
   "metadata": {},
   "outputs": [],
   "source": [
    "for t in Ts:\n",
    "    df_tmp = test_df_grouped.loc[\n",
    "        test_df_grouped[\"T\"] == t\n",
    "    ]\n",
    "    plt.figure(\n",
    "        figsize = (\n",
    "            10,\n",
    "            5\n",
    "        )\n",
    "    )\n",
    "    sns.lineplot(\n",
    "        x = \"dt\",\n",
    "        y = \"mape\",\n",
    "        data = df_tmp\n",
    "    )\n",
    "    sns.lineplot(\n",
    "        x = \"dt\",\n",
    "        y = \"mape+2*std\",\n",
    "        data = df_tmp\n",
    "    )\n",
    "    plt.show()"
   ]
  },
  {
   "cell_type": "code",
   "execution_count": null,
   "metadata": {},
   "outputs": [],
   "source": []
  }
 ],
 "metadata": {
  "kernelspec": {
   "display_name": ".venv",
   "language": "python",
   "name": "python3"
  },
  "language_info": {
   "codemirror_mode": {
    "name": "ipython",
    "version": 3
   },
   "file_extension": ".py",
   "mimetype": "text/x-python",
   "name": "python",
   "nbconvert_exporter": "python",
   "pygments_lexer": "ipython3",
   "version": "3.9.13"
  },
  "orig_nbformat": 4
 },
 "nbformat": 4,
 "nbformat_minor": 2
}
