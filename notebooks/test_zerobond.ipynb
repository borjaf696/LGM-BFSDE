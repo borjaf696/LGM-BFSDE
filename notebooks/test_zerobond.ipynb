{
 "cells": [
  {
   "cell_type": "code",
   "execution_count": null,
   "metadata": {},
   "outputs": [],
   "source": [
    "import pandas as pd\n",
    "import numpy as np\n",
    "T = 1\n",
    "nsteps = 48\n",
    "\n",
    "files = [\n",
    "    f'../data/export/test/100000/zerobond_1_normalize_True_test_results_sigma_0.01_dim_1_1_100000_{nsteps*T}_epochs_10.csv'\n",
    "]\n",
    "df_0 = pd.read_csv(\n",
    "    files[0]\n",
    ")[[\"X_0\", \"_delta_x_0\", \"dt\"]]"
   ]
  },
  {
   "cell_type": "code",
   "execution_count": null,
   "metadata": {},
   "outputs": [],
   "source": [
    "import tensorflow as tf\n",
    "from utils.utils.utils import (\n",
    "    ZeroBond\n",
    ")\n",
    "from utils.utils.utils import (\n",
    "    FinanceUtils\n",
    ")\n",
    "\n",
    "delta_x = df_0._delta_x_0.values\n",
    "xt = df_0.X_0.values\n",
    "dt = df_0.dt.values\n",
    "ct = FinanceUtils.C(\n",
    "    T, \n",
    "    sigma_value = 0.01\n",
    ")\n",
    "nt = ZeroBond.N_tensor(\n",
    "    dt,\n",
    "    xt,\n",
    "    ct\n",
    ")\n",
    "# Convert to tensors\n",
    "xt = tf.convert_to_tensor(\n",
    "    xt, \n",
    "    dtype = tf.float64\n",
    ")\n",
    "delta_x = tf.convert_to_tensor(\n",
    "    delta_x,\n",
    "    dtype = tf.float64\n",
    ")\n",
    "dt = tf.convert_to_tensor(\n",
    "    dt, \n",
    "    dtype = tf.float64\n",
    ")\n",
    "ct = tf.Variable(\n",
    "    np.float64(ct), \n",
    "    name = 'ct', \n",
    "    trainable=False\n",
    ")\n",
    "T = tf.Variable(\n",
    "    np.float64(T), \n",
    "    name = 'T', \n",
    "    trainable=False\n",
    ")"
   ]
  },
  {
   "cell_type": "code",
   "execution_count": null,
   "metadata": {},
   "outputs": [],
   "source": [
    "h = 1e-5\n",
    "y = ZeroBond.Z_tensor(\n",
    "    xt, \n",
    "    dt, \n",
    "    T, \n",
    "    ct\n",
    ")\n",
    "y_h = ZeroBond.Z_tensor(\n",
    "    xt + h, \n",
    "    dt, \n",
    "    T, \n",
    "    ct\n",
    ")\n",
    "grads_hand = (y_h - y) / h"
   ]
  },
  {
   "cell_type": "code",
   "execution_count": null,
   "metadata": {},
   "outputs": [],
   "source": [
    "xt = tf.Variable(xt, name = 'xn', trainable = True)\n",
    "dt = tf.Variable(dt, name = 'tn', trainable = True)\n",
    "ct = tf.Variable(np.float64(ct), name = 'ct', trainable=False)\n",
    "with tf.GradientTape() as tape:\n",
    "    y = ZeroBond.Z_tensor(\n",
    "        xt, \n",
    "        dt, \n",
    "        T, \n",
    "        ct\n",
    "    )\n",
    "grad_df = tape.gradient(y, {\n",
    "    'xn':xt,\n",
    "    'tn': dt\n",
    "})\n",
    "grads = grad_df['xn']\n",
    "grads_dt = grad_df['tn']"
   ]
  },
  {
   "cell_type": "code",
   "execution_count": null,
   "metadata": {},
   "outputs": [],
   "source": [
    "# Masks for prediction\n",
    "idx_preds = np.array(range(0, xt.shape[0], nsteps))\n",
    "np_mask_v = np.ones((xt.shape[0], 1))\n",
    "np_mask_v[idx_preds] = 0\n",
    "mask_v = tf.convert_to_tensor(\n",
    "    np_mask_v, \n",
    "    dtype = tf.float64\n",
    ")\n",
    "mask_preds = tf.abs(\n",
    "    tf.convert_to_tensor(\n",
    "        np_mask_v,\n",
    "        dtype = tf.float64\n",
    "    ) - 1)"
   ]
  },
  {
   "cell_type": "code",
   "execution_count": null,
   "metadata": {},
   "outputs": [],
   "source": [
    "# Tensor operations\n",
    "batch_size = int(\n",
    "    xt.shape[0] / nsteps\n",
    ")\n",
    "grads_reshaped = tf.reshape(grads, (batch_size, nsteps))\n",
    "grads_dt_reshaped = tf.reshape(grads_dt, (batch_size, nsteps))\n",
    "xt_reshaped = tf.reshape(xt, (batch_size, nsteps))\n",
    "delta_x_reshaped = tf.reshape(delta_x, (batch_size, nsteps))\n",
    "# Calculate the MVP\n",
    "v = np.ones((batch_size, nsteps)) * 0.97039797\n",
    "for i in range(1, nsteps):\n",
    "    v[:, i] = (v[:, i - 1] + grads_reshaped[:, i] * delta_x_reshaped[:, i]) + grads_dt_reshaped[:, i] * T/nsteps"
   ]
  },
  {
   "cell_type": "code",
   "execution_count": null,
   "metadata": {},
   "outputs": [],
   "source": [
    "v_real = ZeroBond.Z_tensor(\n",
    "    xt, \n",
    "    dt, \n",
    "    T, \n",
    "    ct\n",
    ")\n",
    "v_real_reshaped = tf.reshape(\n",
    "    v_real,\n",
    "    (\n",
    "        batch_size,\n",
    "        nsteps\n",
    "    )\n",
    ")"
   ]
  },
  {
   "cell_type": "code",
   "execution_count": null,
   "metadata": {},
   "outputs": [],
   "source": [
    "v_real = np.array(\n",
    "    tf.reshape(v_real_reshaped[0, :], -1)\n",
    ")\n",
    "v_column = np.array(\n",
    "    tf.reshape(v[0, :], -1)\n",
    ")\n",
    "dt_list = np.array(\n",
    "    dt\n",
    ")\n",
    "df_results = pd.DataFrame(\n",
    "    zip(\n",
    "        v_real, \n",
    "        v_column, \n",
    "        dt_list\n",
    "    ), \n",
    "    columns = [\n",
    "        \"v_real\",\n",
    "        \"v_est\",\n",
    "        \"dt\"\n",
    "    ]\n",
    ")"
   ]
  },
  {
   "cell_type": "code",
   "execution_count": null,
   "metadata": {},
   "outputs": [],
   "source": [
    "(df_results.v_real - df_results.v_est).abs().mean()"
   ]
  },
  {
   "cell_type": "code",
   "execution_count": null,
   "metadata": {},
   "outputs": [],
   "source": [
    "import seaborn as sns\n",
    "import matplotlib.pyplot as plt\n",
    "plt.figure(\n",
    "    figsize = (\n",
    "        10,\n",
    "        5\n",
    "    )\n",
    ")\n",
    "sns.lineplot(\n",
    "    x = 'dt',\n",
    "    y = 'v_real',\n",
    "    data = df_results,\n",
    "    color = 'red'\n",
    ")\n",
    "sns.lineplot(\n",
    "    x = 'dt',\n",
    "    y = 'v_real',\n",
    "    data = df_results,\n",
    "    color = 'blue'\n",
    ")\n",
    "plt.show()"
   ]
  },
  {
   "cell_type": "code",
   "execution_count": null,
   "metadata": {},
   "outputs": [],
   "source": []
  }
 ],
 "metadata": {
  "kernelspec": {
   "display_name": ".venv",
   "language": "python",
   "name": "python3"
  },
  "language_info": {
   "codemirror_mode": {
    "name": "ipython",
    "version": 3
   },
   "file_extension": ".py",
   "mimetype": "text/x-python",
   "name": "python",
   "nbconvert_exporter": "python",
   "pygments_lexer": "ipython3",
   "version": "3.9.13"
  },
  "orig_nbformat": 4
 },
 "nbformat": 4,
 "nbformat_minor": 2
}
