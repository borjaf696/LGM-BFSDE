{
 "cells": [
  {
   "cell_type": "code",
   "execution_count": 25,
   "metadata": {},
   "outputs": [
    {
     "name": "stdout",
     "output_type": "stream",
     "text": [
      "The autoreload extension is already loaded. To reload it, use:\n",
      "  %reload_ext autoreload\n"
     ]
    }
   ],
   "source": [
    "%load_ext autoreload\n",
    "%autoreload 2\n",
    "import os\n",
    "import numpy as np\n",
    "import pandas as pd\n",
    "# Custom utils\n",
    "from utils.simulator.simulator import MCSimulation\n",
    "# Tf imports\n",
    "import tensorflow as tf\n",
    "from tensorflow.keras import layers\n",
    "from tensorflow import keras"
   ]
  },
  {
   "cell_type": "code",
   "execution_count": 162,
   "metadata": {},
   "outputs": [],
   "source": [
    "def custom_derivative_model(x, model, multioutput = True, mode = 'centered'):\n",
    "    h = 1e-1\n",
    "    # Size x\n",
    "    _, dim = x.shape\n",
    "    # Gradient vector\n",
    "    if multioutput:\n",
    "        gradient = np.zeros((dim, dim))\n",
    "    else:\n",
    "        gradient = np.zeros((dim, 1))\n",
    "    for i in range(dim):\n",
    "        # Vector for partial derivative estimation\n",
    "        offset_tensor = np.zeros((1, dim))\n",
    "        offset_tensor[0, i] = h\n",
    "        offset_tensor = tf.convert_to_tensor(offset_tensor,\n",
    "                                             dtype = tf.float32)\n",
    "        # Constantes:\n",
    "        denominator = h\n",
    "        if mode == 'progressive':\n",
    "            numerator = model(\n",
    "                tf.math.add(x, offset_tensor)\n",
    "            ) - model(\n",
    "                x\n",
    "            ) \n",
    "        elif mode == 'regressive':\n",
    "            numerator = model(\n",
    "                x\n",
    "            ) - model(\n",
    "                tf.math.subtract(x, offset_tensor)\n",
    "            )\n",
    "        elif mode == 'centered':\n",
    "            numerator = tf.math.subtract(\n",
    "                model(\n",
    "                    tf.math.add(x, offset_tensor)\n",
    "                ), model(\n",
    "                    tf.math.subtract(x, offset_tensor)\n",
    "                )\n",
    "            )\n",
    "        denominator = 2 * h\n",
    "        gradient[i, :] = numerator / denominator\n",
    "    gradient = tf.convert_to_tensor(gradient,\n",
    "                                        dtype = tf.float32)\n",
    "    return gradient"
   ]
  },
  {
   "cell_type": "code",
   "execution_count": 142,
   "metadata": {},
   "outputs": [],
   "source": [
    "\n",
    "input_layer = keras.Input(shape = (10,), name='input_nn')\n",
    "'''gru_unit = layers.GRU(\n",
    "    128, \n",
    "    name = 'sequential_layer'\n",
    ")(input_layer)'''\n",
    "dense_unit = layers.Dense(\n",
    "    units = 64,\n",
    "    name = 'dense_layer'\n",
    ")(input_layer)\n",
    "output_layer = layers.Dense(\n",
    "    units = 10, \n",
    "    activation = 'relu', \n",
    "    name = 'first_dense'\n",
    ")(dense_unit)\n",
    "custom_model = keras.Model(\n",
    "    inputs=[input_layer],\n",
    "    outputs=[output_layer],\n",
    "    name = 'test_model'\n",
    ")"
   ]
  },
  {
   "cell_type": "code",
   "execution_count": 179,
   "metadata": {},
   "outputs": [],
   "source": [
    "# Domain -5:5\n",
    "x = tf.convert_to_tensor(\n",
    "    np.array(range(-5,5)).reshape((1,10)),\n",
    "    dtype = tf.float32    \n",
    ")\n",
    "# Test \n",
    "xs = tf.Variable(x, trainable = True, name = 'x')\n",
    "with tf.GradientTape() as tape, tf.GradientTape() as tape_2:\n",
    "    tape.watch(xs)\n",
    "    tape_2.watch(xs)\n",
    "    y = custom_model(xs)\n",
    "# This represents dV/dX\n",
    "grads = tape.gradient(y, {\n",
    "    'x':xs\n",
    "})\n",
    "jacobian = tape_2.jacobian(y, {\n",
    "    'x':xs\n",
    "})"
   ]
  },
  {
   "cell_type": "code",
   "execution_count": 180,
   "metadata": {},
   "outputs": [],
   "source": [
    "custom_grads = tf.transpose(custom_derivative_model(x, custom_model))"
   ]
  },
  {
   "cell_type": "code",
   "execution_count": 172,
   "metadata": {},
   "outputs": [
    {
     "data": {
      "text/plain": [
       "<tf.Tensor: shape=(1, 10), dtype=float32, numpy=array([[-5., -4., -3., -2., -1.,  0.,  1.,  2.,  3.,  4.]], dtype=float32)>"
      ]
     },
     "execution_count": 172,
     "metadata": {},
     "output_type": "execute_result"
    }
   ],
   "source": [
    "x"
   ]
  },
  {
   "cell_type": "code",
   "execution_count": 181,
   "metadata": {},
   "outputs": [
    {
     "data": {
      "text/plain": [
       "(<tf.Tensor: shape=(1, 10), dtype=float32, numpy=\n",
       " array([[-0.07849032, -0.8184525 , -0.4894024 ,  0.31033385, -0.01098841,\n",
       "          0.33701032,  0.01973917,  0.27462688, -0.05480143,  0.5937259 ]],\n",
       "       dtype=float32)>,\n",
       " <tf.Tensor: shape=(10, 10), dtype=float32, numpy=\n",
       " array([[-0.14227033,  0.        ,  0.        ,  0.12732685,  0.05387843,\n",
       "          0.        , -0.11742949,  0.        ,  0.        ,  0.        ],\n",
       "        [-0.13334334,  0.        ,  0.        , -0.22000134, -0.17940164,\n",
       "          0.        , -0.28570652,  0.        ,  0.        ,  0.        ],\n",
       "        [ 0.09474874,  0.        ,  0.        , -0.12032986, -0.0159359 ,\n",
       "          0.        , -0.44789553,  0.        ,  0.        ,  0.        ],\n",
       "        [ 0.00095427,  0.        ,  0.        ,  0.12259454,  0.1000917 ,\n",
       "          0.        ,  0.086689  ,  0.        ,  0.        ,  0.        ],\n",
       "        [-0.05466878,  0.        ,  0.        , -0.10521203, -0.00908315,\n",
       "          0.        ,  0.15797257,  0.        ,  0.        ,  0.        ],\n",
       "        [ 0.12597263,  0.        ,  0.        ,  0.05530775, -0.25960743,\n",
       "          0.        ,  0.41534185,  0.        ,  0.        ,  0.        ],\n",
       "        [ 0.31196177,  0.        ,  0.        ,  0.07168293, -0.10198832,\n",
       "          0.        , -0.26192665,  0.        ,  0.        ,  0.        ],\n",
       "        [-0.08349538,  0.        ,  0.        ,  0.1442483 ,  0.27135313,\n",
       "          0.        , -0.05749106,  0.        ,  0.        ,  0.        ],\n",
       "        [ 0.14333725,  0.        ,  0.        ,  0.13828516,  0.01160681,\n",
       "          0.        , -0.34802675,  0.        ,  0.        ,  0.        ],\n",
       "        [ 0.06587029,  0.        ,  0.        , -0.0598973 ,  0.29994607,\n",
       "          0.        ,  0.2878058 ,  0.        ,  0.        ,  0.        ]],\n",
       "       dtype=float32)>,\n",
       " <tf.Tensor: shape=(1, 10, 1, 10), dtype=float32, numpy=\n",
       " array([[[[-0.1422736 , -0.133342  ,  0.09475414,  0.00095898,\n",
       "           -0.05466107,  0.12596878,  0.31196347, -0.08349364,\n",
       "            0.14333867,  0.0658761 ]],\n",
       " \n",
       "         [[ 0.        ,  0.        ,  0.        ,  0.        ,\n",
       "            0.        ,  0.        ,  0.        ,  0.        ,\n",
       "            0.        ,  0.        ]],\n",
       " \n",
       "         [[ 0.        ,  0.        ,  0.        ,  0.        ,\n",
       "            0.        ,  0.        ,  0.        ,  0.        ,\n",
       "            0.        ,  0.        ]],\n",
       " \n",
       "         [[ 0.12732704, -0.22000058, -0.12032945,  0.12259536,\n",
       "           -0.10521387,  0.05530785,  0.07168315,  0.14424987,\n",
       "            0.13828549, -0.05989853]],\n",
       " \n",
       "         [[ 0.05388319, -0.17940453, -0.01593384,  0.10009321,\n",
       "           -0.0090875 , -0.2596064 , -0.10198667,  0.27135623,\n",
       "            0.01160829,  0.29994512]],\n",
       " \n",
       "         [[ 0.        ,  0.        ,  0.        ,  0.        ,\n",
       "            0.        ,  0.        ,  0.        ,  0.        ,\n",
       "            0.        ,  0.        ]],\n",
       " \n",
       "         [[-0.11742697, -0.2857053 , -0.44789308,  0.0866863 ,\n",
       "            0.15797402,  0.41534004, -0.2619208 , -0.05748552,\n",
       "           -0.34803393,  0.2878031 ]],\n",
       " \n",
       "         [[ 0.        ,  0.        ,  0.        ,  0.        ,\n",
       "            0.        ,  0.        ,  0.        ,  0.        ,\n",
       "            0.        ,  0.        ]],\n",
       " \n",
       "         [[ 0.        ,  0.        ,  0.        ,  0.        ,\n",
       "            0.        ,  0.        ,  0.        ,  0.        ,\n",
       "            0.        ,  0.        ]],\n",
       " \n",
       "         [[ 0.        ,  0.        ,  0.        ,  0.        ,\n",
       "            0.        ,  0.        ,  0.        ,  0.        ,\n",
       "            0.        ,  0.        ]]]], dtype=float32)>)"
      ]
     },
     "execution_count": 181,
     "metadata": {},
     "output_type": "execute_result"
    }
   ],
   "source": [
    "grads['x'], custom_grads, jacobian['x']"
   ]
  },
  {
   "cell_type": "code",
   "execution_count": null,
   "metadata": {},
   "outputs": [],
   "source": []
  }
 ],
 "metadata": {
  "kernelspec": {
   "display_name": ".venv",
   "language": "python",
   "name": "python3"
  },
  "language_info": {
   "codemirror_mode": {
    "name": "ipython",
    "version": 3
   },
   "file_extension": ".py",
   "mimetype": "text/x-python",
   "name": "python",
   "nbconvert_exporter": "python",
   "pygments_lexer": "ipython3",
   "version": "3.9.0"
  },
  "orig_nbformat": 4,
  "vscode": {
   "interpreter": {
    "hash": "4f7acd489409a1a7cdda0aabc26b8ff7e1266ab2afa52b78ec63ef40f33e0082"
   }
  }
 },
 "nbformat": 4,
 "nbformat_minor": 2
}
