{
 "cells": [
  {
   "cell_type": "code",
   "execution_count": 1,
   "metadata": {},
   "outputs": [],
   "source": [
    "%load_ext autoreload\n",
    "%autoreload 2\n",
    "import os\n",
    "import numpy as np\n",
    "import pandas as pd\n",
    "# Custom utils\n",
    "from utils.simulator.simulator import MCSimulation\n",
    "# Tf imports\n",
    "import tensorflow as tf\n",
    "from tensorflow.keras import layers\n",
    "from tensorflow import keras"
   ]
  },
  {
   "cell_type": "code",
   "execution_count": 2,
   "metadata": {},
   "outputs": [],
   "source": [
    "def custom_derivative_model(x, model, multioutput = True, mode = 'centered'):\n",
    "    h = 1e-1\n",
    "    # Size x\n",
    "    x_dim, y_dim = x.shape\n",
    "    # Gradient vector\n",
    "    if multioutput:\n",
    "        gradient = np.zeros((x_dim, y_dim, y_dim))\n",
    "    else:\n",
    "        gradient = np.zeros((x_dim, y_dim, 1))\n",
    "    for i in range(y_dim):\n",
    "        # Vector for partial derivative estimation\n",
    "        offset_tensor = np.zeros((x_dim, y_dim))\n",
    "        offset_tensor[:, i] = h\n",
    "        offset_tensor = tf.convert_to_tensor(offset_tensor,\n",
    "                                             dtype = tf.float32)\n",
    "        # Constantes:\n",
    "        denominator = h\n",
    "        if mode == 'progressive':\n",
    "            numerator = model(\n",
    "                tf.math.add(x, offset_tensor)\n",
    "            ) - model(\n",
    "                x\n",
    "            ) \n",
    "        elif mode == 'regressive':\n",
    "            numerator = model(\n",
    "                x\n",
    "            ) - model(\n",
    "                tf.math.subtract(x, offset_tensor)\n",
    "            )\n",
    "        elif mode == 'centered':\n",
    "            numerator = tf.math.subtract(\n",
    "                model(\n",
    "                    tf.math.add(x, offset_tensor)\n",
    "                ), model(\n",
    "                    tf.math.subtract(x, offset_tensor)\n",
    "                )\n",
    "            )\n",
    "        denominator = 2 * h\n",
    "        gradient [:, i, :] = numerator / denominator\n",
    "    gradient = tf.convert_to_tensor(gradient,\n",
    "                                        dtype = tf.float32)\n",
    "    return gradient"
   ]
  },
  {
   "cell_type": "code",
   "execution_count": 29,
   "metadata": {},
   "outputs": [],
   "source": [
    "\n",
    "input_layer = keras.Input(shape = (2,), name='input_nn')\n",
    "'''gru_unit = layers.GRU(\n",
    "    128, \n",
    "    name = 'sequential_layer'\n",
    ")(input_layer)'''\n",
    "dense_unit = layers.Dense(\n",
    "    units = 64,\n",
    "    name = 'dense_layer'\n",
    ")(input_layer)\n",
    "output_layer = layers.Dense(\n",
    "    units = 2, \n",
    "    activation = 'relu', \n",
    "    name = 'first_dense'\n",
    ")(dense_unit)\n",
    "custom_model = keras.Model(\n",
    "    inputs=[input_layer],\n",
    "    outputs=[output_layer],\n",
    "    name = 'test_model'\n",
    ")"
   ]
  },
  {
   "cell_type": "code",
   "execution_count": 30,
   "metadata": {},
   "outputs": [],
   "source": [
    "# Domain -5:5\n",
    "x = tf.convert_to_tensor(\n",
    "    np.array(range(-10,10)).reshape((10,2)),\n",
    "    dtype = tf.float32    \n",
    ")\n",
    "# Test \n",
    "xs = tf.Variable(x, trainable = True, name = 'x')\n",
    "with tf.GradientTape() as tape, tf.GradientTape() as tape_2, tf.GradientTape() as tape_3:\n",
    "    tape.watch(xs)\n",
    "    tape_2.watch(xs)\n",
    "    tape_3.watch(xs)\n",
    "    y = custom_model(xs)\n",
    "# This represents dV/dX\n",
    "grads = tape.gradient(y, {\n",
    "    'x':xs\n",
    "})\n",
    "jacobian = tape_2.jacobian(y, {\n",
    "    'x':xs\n",
    "})"
   ]
  },
  {
   "cell_type": "code",
   "execution_count": 18,
   "metadata": {},
   "outputs": [
    {
     "ename": "ValueError",
     "evalue": "could not broadcast input array from shape (2,10) into shape (10,)",
     "output_type": "error",
     "traceback": [
      "\u001b[1;31m---------------------------------------------------------------------------\u001b[0m",
      "\u001b[1;31mValueError\u001b[0m                                Traceback (most recent call last)",
      "Cell \u001b[1;32mIn[18], line 1\u001b[0m\n\u001b[1;32m----> 1\u001b[0m custom_grads \u001b[39m=\u001b[39m tf\u001b[39m.\u001b[39mtranspose(custom_derivative_model(x, custom_model))\n",
      "Cell \u001b[1;32mIn[2], line 39\u001b[0m, in \u001b[0;36mcustom_derivative_model\u001b[1;34m(x, model, multioutput, mode)\u001b[0m\n\u001b[0;32m     31\u001b[0m         numerator \u001b[39m=\u001b[39m tf\u001b[39m.\u001b[39mmath\u001b[39m.\u001b[39msubtract(\n\u001b[0;32m     32\u001b[0m             model(\n\u001b[0;32m     33\u001b[0m                 tf\u001b[39m.\u001b[39mmath\u001b[39m.\u001b[39madd(x, offset_tensor)\n\u001b[1;32m   (...)\u001b[0m\n\u001b[0;32m     36\u001b[0m             )\n\u001b[0;32m     37\u001b[0m         )\n\u001b[0;32m     38\u001b[0m     denominator \u001b[39m=\u001b[39m \u001b[39m2\u001b[39m \u001b[39m*\u001b[39m h\n\u001b[1;32m---> 39\u001b[0m     gradient[i, :] \u001b[39m=\u001b[39m numerator \u001b[39m/\u001b[39m denominator\n\u001b[0;32m     40\u001b[0m gradient \u001b[39m=\u001b[39m tf\u001b[39m.\u001b[39mconvert_to_tensor(gradient,\n\u001b[0;32m     41\u001b[0m                                     dtype \u001b[39m=\u001b[39m tf\u001b[39m.\u001b[39mfloat32)\n\u001b[0;32m     42\u001b[0m \u001b[39mreturn\u001b[39;00m gradient\n",
      "\u001b[1;31mValueError\u001b[0m: could not broadcast input array from shape (2,10) into shape (10,)"
     ]
    }
   ],
   "source": [
    "custom_grads = tf.transpose(custom_derivative_model(x, custom_model))"
   ]
  },
  {
   "cell_type": "code",
   "execution_count": 43,
   "metadata": {},
   "outputs": [
    {
     "data": {
      "text/plain": [
       "(TensorShape([10, 10, 2, 2]),\n",
       " <tf.Tensor: shape=(10, 2, 2), dtype=float32, numpy=\n",
       " array([[[ 0.        ,  0.        ],\n",
       "         [ 0.        ,  0.        ]],\n",
       " \n",
       "        [[ 0.        ,  0.        ],\n",
       "         [ 0.        ,  0.        ]],\n",
       " \n",
       "        [[ 0.        ,  0.        ],\n",
       "         [ 0.        ,  0.        ]],\n",
       " \n",
       "        [[ 0.1675716 , -0.06344406],\n",
       "         [ 0.        ,  0.        ]],\n",
       " \n",
       "        [[ 0.        ,  0.        ],\n",
       "         [ 0.        ,  0.        ]],\n",
       " \n",
       "        [[ 0.        ,  0.        ],\n",
       "         [ 0.        ,  0.        ]],\n",
       " \n",
       "        [[ 0.        ,  0.        ],\n",
       "         [ 0.        ,  0.        ]],\n",
       " \n",
       "        [[ 0.        ,  0.        ],\n",
       "         [ 0.        ,  0.        ]],\n",
       " \n",
       "        [[ 0.20841727,  0.5425839 ],\n",
       "         [ 0.        ,  0.        ]],\n",
       " \n",
       "        [[ 0.        ,  0.        ],\n",
       "         [ 0.        ,  0.        ]]], dtype=float32)>)"
      ]
     },
     "execution_count": 43,
     "metadata": {},
     "output_type": "execute_result"
    }
   ],
   "source": [
    "jacobian_reshaped = tf.reshape(jacobian['x'], (10, 10, 2, 2))\n",
    "jacobian_reshaped.shape, jacobian_reshaped[6]"
   ]
  },
  {
   "cell_type": "code",
   "execution_count": 20,
   "metadata": {},
   "outputs": [
    {
     "data": {
      "text/plain": [
       "<tf.Tensor: shape=(2, 10, 2), dtype=float32, numpy=\n",
       "array([[[-0.3357237 ,  0.        ],\n",
       "        [ 0.        ,  0.        ],\n",
       "        [-0.30415174,  0.        ],\n",
       "        [ 0.        ,  0.        ],\n",
       "        [-0.00158158,  0.        ],\n",
       "        [-0.16155705,  0.        ],\n",
       "        [-0.02066748,  0.        ],\n",
       "        [ 0.        ,  0.        ],\n",
       "        [-0.32954675,  0.        ],\n",
       "        [-0.21719304,  0.        ]],\n",
       "\n",
       "       [[ 0.        ,  0.3730056 ],\n",
       "        [ 0.        , -0.2060039 ],\n",
       "        [ 0.        , -0.25046194],\n",
       "        [ 0.        ,  0.        ],\n",
       "        [ 0.        ,  0.        ],\n",
       "        [ 0.        ,  0.        ],\n",
       "        [ 0.        ,  0.        ],\n",
       "        [ 0.        ,  0.36052293],\n",
       "        [ 0.        , -0.29172918],\n",
       "        [ 0.        , -0.12877887]]], dtype=float32)>"
      ]
     },
     "execution_count": 20,
     "metadata": {},
     "output_type": "execute_result"
    }
   ],
   "source": [
    "tf.linalg.diag_part(jacobian['x'])"
   ]
  },
  {
   "cell_type": "code",
   "execution_count": 15,
   "metadata": {},
   "outputs": [
    {
     "data": {
      "text/plain": [
       "TensorShape([1, 10])"
      ]
     },
     "execution_count": 15,
     "metadata": {},
     "output_type": "execute_result"
    }
   ],
   "source": [
    "grads['x'].shape"
   ]
  },
  {
   "cell_type": "code",
   "execution_count": null,
   "metadata": {},
   "outputs": [
    {
     "data": {
      "text/plain": [
       "(<tf.Tensor: shape=(1, 10), dtype=float32, numpy=\n",
       " array([[-0.5670204 , -1.0382694 , -0.7536539 ,  0.1433045 ,  0.91822445,\n",
       "         -0.33055848, -0.03884544, -0.08828928, -0.5248461 ,  1.4366901 ]],\n",
       "       dtype=float32)>,\n",
       " <tf.Tensor: shape=(10, 10), dtype=float32, numpy=\n",
       " array([[ 0.        ,  0.        ,  0.        ,  0.        ,  0.        ,\n",
       "          0.        ,  0.        ,  0.        ,  0.        ,  0.        ],\n",
       "        [ 0.        ,  0.        ,  0.        ,  0.        ,  0.        ,\n",
       "          0.        ,  0.        ,  0.        ,  0.        ,  0.        ],\n",
       "        [-0.06004572, -0.31398535, -0.13197541, -0.10521173,  0.13706803,\n",
       "         -0.03125548,  0.17498016,  0.05945802, -0.02276778,  0.22522807],\n",
       "        [ 0.        ,  0.        ,  0.        ,  0.        ,  0.        ,\n",
       "          0.        ,  0.        ,  0.        ,  0.        ,  0.        ],\n",
       "        [-0.16636491, -0.15045166,  0.13496935, -0.18328667,  0.0385952 ,\n",
       "         -0.00757515, -0.04257083, -0.18448412, -0.2458787 ,  0.3973627 ],\n",
       "        [-0.2661872 , -0.26094556, -0.3733456 ,  0.05662203,  0.26538134,\n",
       "         -0.17804503,  0.08980751,  0.2534938 , -0.07854462,  0.03225446],\n",
       "        [ 0.09027615,  0.048967  , -0.14561318,  0.17166354, -0.07253863,\n",
       "          0.11325993, -0.11829965, -0.12429498,  0.02092876,  0.25724417],\n",
       "        [ 0.        ,  0.        ,  0.        ,  0.        ,  0.        ,\n",
       "          0.        ,  0.        ,  0.        ,  0.        ,  0.        ],\n",
       "        [ 0.        ,  0.        ,  0.        ,  0.        ,  0.        ,\n",
       "          0.        ,  0.        ,  0.        ,  0.        ,  0.        ],\n",
       "        [-0.16470313, -0.36184788, -0.23768783,  0.20351768,  0.5497122 ,\n",
       "         -0.2269423 , -0.14276147, -0.09246707, -0.19859195,  0.524596  ]],\n",
       "       dtype=float32)>,\n",
       " <tf.Tensor: shape=(1, 10, 1, 10), dtype=float32, numpy=\n",
       " array([[[[ 0.        ,  0.        ,  0.        ,  0.        ,\n",
       "            0.        ,  0.        ,  0.        ,  0.        ,\n",
       "            0.        ,  0.        ]],\n",
       " \n",
       "         [[ 0.        ,  0.        ,  0.        ,  0.        ,\n",
       "            0.        ,  0.        ,  0.        ,  0.        ,\n",
       "            0.        ,  0.        ]],\n",
       " \n",
       "         [[-0.06004309, -0.31398815, -0.1319764 , -0.10520766,\n",
       "            0.1370637 , -0.03125574,  0.17497975,  0.0594601 ,\n",
       "           -0.02276466,  0.2252289 ]],\n",
       " \n",
       "         [[ 0.        ,  0.        ,  0.        ,  0.        ,\n",
       "            0.        ,  0.        ,  0.        ,  0.        ,\n",
       "            0.        ,  0.        ]],\n",
       " \n",
       "         [[-0.16636774, -0.15045367,  0.13496894, -0.18328583,\n",
       "            0.03859444, -0.00757581, -0.04257074, -0.18448481,\n",
       "           -0.24587923,  0.3973618 ]],\n",
       " \n",
       "         [[-0.26618677, -0.26094887, -0.3733418 ,  0.05662489,\n",
       "            0.26538774, -0.17804329,  0.08980674,  0.25349465,\n",
       "           -0.07853914,  0.03225867]],\n",
       " \n",
       "         [[ 0.09027619,  0.04896691, -0.14561376,  0.17166124,\n",
       "           -0.07253707,  0.11325879, -0.11830025, -0.12429365,\n",
       "            0.02092773,  0.25724682]],\n",
       " \n",
       "         [[ 0.        ,  0.        ,  0.        ,  0.        ,\n",
       "            0.        ,  0.        ,  0.        ,  0.        ,\n",
       "            0.        ,  0.        ]],\n",
       " \n",
       "         [[ 0.        ,  0.        ,  0.        ,  0.        ,\n",
       "            0.        ,  0.        ,  0.        ,  0.        ,\n",
       "            0.        ,  0.        ]],\n",
       " \n",
       "         [[-0.16469906, -0.36184573, -0.23769075,  0.20351195,\n",
       "            0.5497155 , -0.22694246, -0.14276092, -0.09246566,\n",
       "           -0.19859058,  0.524594  ]]]], dtype=float32)>)"
      ]
     },
     "execution_count": 187,
     "metadata": {},
     "output_type": "execute_result"
    }
   ],
   "source": [
    "grads['x'].T, custom_grads, jacobian['x']"
   ]
  },
  {
   "cell_type": "code",
   "execution_count": null,
   "metadata": {},
   "outputs": [],
   "source": []
  }
 ],
 "metadata": {
  "kernelspec": {
   "display_name": ".venv",
   "language": "python",
   "name": "python3"
  },
  "language_info": {
   "codemirror_mode": {
    "name": "ipython",
    "version": 3
   },
   "file_extension": ".py",
   "mimetype": "text/x-python",
   "name": "python",
   "nbconvert_exporter": "python",
   "pygments_lexer": "ipython3",
   "version": "3.9.0"
  },
  "orig_nbformat": 4,
  "vscode": {
   "interpreter": {
    "hash": "4f7acd489409a1a7cdda0aabc26b8ff7e1266ab2afa52b78ec63ef40f33e0082"
   }
  }
 },
 "nbformat": 4,
 "nbformat_minor": 2
}
