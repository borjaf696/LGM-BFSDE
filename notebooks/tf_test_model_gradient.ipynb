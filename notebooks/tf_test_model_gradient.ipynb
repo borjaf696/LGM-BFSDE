{
 "cells": [
  {
   "cell_type": "code",
   "execution_count": 80,
   "metadata": {},
   "outputs": [
    {
     "name": "stdout",
     "output_type": "stream",
     "text": [
      "The autoreload extension is already loaded. To reload it, use:\n",
      "  %reload_ext autoreload\n"
     ]
    }
   ],
   "source": [
    "%load_ext autoreload\n",
    "%autoreload 2\n",
    "import os\n",
    "import sys\n",
    "\n",
    "import os\n",
    "import numpy as np\n",
    "import pandas as pd\n",
    "# Custom utils\n",
    "from utils.simulator.simulator import MCSimulation\n",
    "# Tf imports\n",
    "import tensorflow as tf\n",
    "from tensorflow.keras import layers\n",
    "from tensorflow import keras"
   ]
  },
  {
   "cell_type": "code",
   "execution_count": 81,
   "metadata": {},
   "outputs": [],
   "source": [
    "def custom_derivative_model(x, model, multioutput = True, mode = 'centered'):\n",
    "    h = 1e-4\n",
    "    # Size x\n",
    "    x_dim, y_dim = x.shape\n",
    "    # Gradient vector\n",
    "    if multioutput:\n",
    "        gradient = np.zeros((x_dim, y_dim, y_dim))\n",
    "    else:\n",
    "        gradient = np.zeros((x_dim, y_dim, 1))\n",
    "    for i in range(y_dim):\n",
    "        # Vector for partial derivative estimation\n",
    "        offset_tensor = np.zeros((x_dim, y_dim))\n",
    "        offset_tensor[:, i] = h\n",
    "        offset_tensor = tf.convert_to_tensor(offset_tensor,\n",
    "                                             dtype = tf.float32)\n",
    "        # Constantes:\n",
    "        denominator = h\n",
    "        if mode == 'progressive':\n",
    "            numerator = model(\n",
    "                tf.math.add(x, offset_tensor)\n",
    "            ) - model(\n",
    "                x\n",
    "            ) \n",
    "        elif mode == 'regressive':\n",
    "            numerator = model(\n",
    "                x\n",
    "            ) - model(\n",
    "                tf.math.subtract(x, offset_tensor)\n",
    "            )\n",
    "        elif mode == 'centered':\n",
    "            numerator = tf.math.subtract(\n",
    "                model(\n",
    "                    tf.math.add(x, offset_tensor)\n",
    "                ), model(\n",
    "                    tf.math.subtract(x, offset_tensor)\n",
    "                )\n",
    "            )\n",
    "        denominator = 2 * h\n",
    "        gradient [:, i, :] = numerator / denominator\n",
    "    gradient = tf.convert_to_tensor(gradient,\n",
    "                                        dtype = tf.float32)\n",
    "    return gradient"
   ]
  },
  {
   "cell_type": "code",
   "execution_count": 82,
   "metadata": {},
   "outputs": [],
   "source": [
    "input_layer = keras.Input(shape = (2,), name='input_nn')\n",
    "intermediate_layer = layers.Dense(\n",
    "    units = 64, \n",
    "    activation = 'tanh', \n",
    "    name = 'first_dense'\n",
    ")(input_layer)\n",
    "output_layer = layers.Dense(\n",
    "    units = 1,\n",
    "    activation = 'tanh',\n",
    "    name = 'second_dense'\n",
    ")(intermediate_layer)\n",
    "custom_model = keras.Model(\n",
    "    inputs=[input_layer],\n",
    "    outputs=[output_layer],\n",
    "    name = 'test_model'\n",
    ")"
   ]
  },
  {
   "cell_type": "code",
   "execution_count": 83,
   "metadata": {},
   "outputs": [],
   "source": [
    "# Domain -5:5\n",
    "x = tf.convert_to_tensor(\n",
    "    np.array(range(0,20)).reshape((10,2)),\n",
    "    dtype = tf.float32    \n",
    ")\n",
    "# Test \n",
    "xs = tf.Variable(x, trainable = True, name = 'x')\n",
    "with tf.GradientTape() as tape, tf.GradientTape() as tape_2:\n",
    "    tape.watch(xs)\n",
    "    tape_2.watch(xs)\n",
    "    y = custom_model(xs)\n",
    "# This represents dV/dX\n",
    "grads = tape.gradient(y, {\n",
    "    'x':xs\n",
    "})"
   ]
  },
  {
   "cell_type": "code",
   "execution_count": 84,
   "metadata": {},
   "outputs": [],
   "source": [
    "custom_grads = custom_derivative_model(x, custom_model, multioutput=False)"
   ]
  },
  {
   "cell_type": "code",
   "execution_count": 85,
   "metadata": {},
   "outputs": [
    {
     "data": {
      "text/plain": [
       "<tf.Tensor: shape=(10, 2), dtype=float32, numpy=\n",
       "array([[-0.03927853,  0.01263339],\n",
       "       [-0.03611669,  0.00147149],\n",
       "       [-0.041686  ,  0.02179295],\n",
       "       [-0.05826354,  0.04939735],\n",
       "       [-0.06973743,  0.06951392],\n",
       "       [-0.07539988,  0.07949769],\n",
       "       [-0.07435679,  0.08180737],\n",
       "       [-0.07320195,  0.08258969],\n",
       "       [-0.07346272,  0.07789582],\n",
       "       [-0.07092953,  0.07834285]], dtype=float32)>"
      ]
     },
     "execution_count": 85,
     "metadata": {},
     "output_type": "execute_result"
    }
   ],
   "source": [
    "tf.reshape(custom_grads, (10, 2))"
   ]
  },
  {
   "cell_type": "code",
   "execution_count": 86,
   "metadata": {},
   "outputs": [
    {
     "data": {
      "text/plain": [
       "{'x': <tf.Tensor: shape=(10, 2), dtype=float32, numpy=\n",
       " array([[-0.03933419,  0.01261395],\n",
       "        [-0.03524638,  0.00228759],\n",
       "        [-0.04136173,  0.02109241],\n",
       "        [-0.05845135,  0.0490886 ],\n",
       "        [-0.06996457,  0.0689986 ],\n",
       "        [-0.07469031,  0.0788607 ],\n",
       "        [-0.07545307,  0.08193812],\n",
       "        [-0.07445842,  0.08145425],\n",
       "        [-0.07293446,  0.07949664],\n",
       "        [-0.07145852,  0.07718682]], dtype=float32)>}"
      ]
     },
     "execution_count": 86,
     "metadata": {},
     "output_type": "execute_result"
    }
   ],
   "source": [
    "grads"
   ]
  },
  {
   "cell_type": "code",
   "execution_count": null,
   "metadata": {},
   "outputs": [],
   "source": []
  }
 ],
 "metadata": {
  "kernelspec": {
   "display_name": ".venv",
   "language": "python",
   "name": "python3"
  },
  "language_info": {
   "codemirror_mode": {
    "name": "ipython",
    "version": 3
   },
   "file_extension": ".py",
   "mimetype": "text/x-python",
   "name": "python",
   "nbconvert_exporter": "python",
   "pygments_lexer": "ipython3",
   "version": "3.10.9"
  },
  "orig_nbformat": 4,
  "vscode": {
   "interpreter": {
    "hash": "1b391e97e35ec4987120a2f780cd64183fdb56c026e5a7e01d3347b3d6528b2a"
   }
  }
 },
 "nbformat": 4,
 "nbformat_minor": 2
}
