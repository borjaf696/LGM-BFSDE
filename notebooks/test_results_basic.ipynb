{
 "cells": [
  {
   "cell_type": "code",
   "execution_count": null,
   "metadata": {},
   "outputs": [],
   "source": [
    "import pandas as pd\n",
    "import numpy as np\n",
    "T = 1\n",
    "nsteps = 12\n",
    "files = [\n",
    "    f'../data/export/test/zerobond_1_test_results_sigma_0.01_{T}_1000_{nsteps}.csv',\n",
    "    f'../data/export/test/zerobond_1_test_results_sigma_0.0075_{T}_1000_{nsteps}.csv',\n",
    "    f'../data/export/test/zerobond_1_test_results_sigma_0.005_{T}_1000_{nsteps}.csv',\n",
    "]\n",
    "sigmas = [\n",
    "    0.01,\n",
    "    0.0075,\n",
    "    0.005\n",
    "]\n",
    "test_df = pd.DataFrame()\n",
    "for i, file in enumerate(files):\n",
    "    test_df_tmp = pd.read_csv(\n",
    "        file\n",
    "    )\n",
    "    test_df_tmp['sigma'] = sigmas[i]\n",
    "    # Concat\n",
    "    test_df = pd.concat(\n",
    "        [\n",
    "            test_df,\n",
    "            test_df_tmp\n",
    "        ]\n",
    "    )\n",
    "# Error\n",
    "test_df['ae'] = np.abs(test_df['V_est'] - test_df['V'])\n",
    "test_df['pae'] = np.abs(test_df['V_est'] - test_df['V'])/test_df['V']\n",
    "test_df['se'] = (test_df['V_est'] - test_df['V'])**2\n",
    "# Filter by sigma\n",
    "'''test_df = test_df.loc[\n",
    "    (test_df.sigma == 0.01) |\n",
    "    (test_df.sigma == 0.001)\n",
    "]'''"
   ]
  },
  {
   "attachments": {},
   "cell_type": "markdown",
   "metadata": {},
   "source": [
    "### Simulations checks\n",
    "\n",
    "For each time step we know that the distribution of $W$ should be $\\mathcal{N}(0, t)$ since it is a Wiener process, thus we are expected to see that:"
   ]
  },
  {
   "cell_type": "code",
   "execution_count": null,
   "metadata": {},
   "outputs": [],
   "source": [
    "import seaborn as sns\n",
    "import matplotlib.pyplot as plt\n",
    "\n",
    "plt.figure(\n",
    "    figsize = (10, 5)\n",
    ")\n",
    "sns.boxplot(\n",
    "    x = 'dt',\n",
    "    y = 'W',\n",
    "    data = test_df, \n",
    "    hue = 'sigma',\n",
    "    showfliers = False\n",
    ")\n",
    "plt.xticks(\n",
    "    rotation = 90\n",
    ")\n",
    "plt.show()"
   ]
  },
  {
   "cell_type": "code",
   "execution_count": null,
   "metadata": {},
   "outputs": [],
   "source": [
    "W = test_df.W.values.reshape(\n",
    "    len(files)*1000,\n",
    "    nsteps\n",
    ")\n",
    "X_test = test_df.W.values.reshape(\n",
    "    len(files)*1000,\n",
    "    nsteps\n",
    ")\n",
    "deltaW = np.zeros(\n",
    "    (\n",
    "        len(files)*1000,\n",
    "        nsteps\n",
    "    )\n",
    ")\n",
    "sigma = 0.025\n",
    "for i in range(1, nsteps):\n",
    "    deltaW[:, i] = W[:, i] - W[:, i - 1]\n",
    "## Brownian increments\n",
    "plt.figure(\n",
    "    figsize = (10, 5)\n",
    ")\n",
    "sns.boxplot(\n",
    "    x = test_df.dt.values,\n",
    "    y = deltaW.reshape(\n",
    "        (\n",
    "            len(files)*1000*nsteps,\n",
    "        )\n",
    "    ),\n",
    "    showfliers = False\n",
    ")\n",
    "plt.xticks(\n",
    "    rotation = 90\n",
    ")\n",
    "plt.show()"
   ]
  },
  {
   "attachments": {},
   "cell_type": "markdown",
   "metadata": {},
   "source": [
    "In $X$ things are a little bit more tricky, since it is:\n",
    "\n",
    "$$X_{t+1} = X_t + \\sigma \\Delta W = X_t + \\sigma \\cdot (W_{t+1} - W_t)$$\n",
    "\n",
    "thus:\n",
    "$$W_t\\sim \\N(0, t)$$\n",
    "\n",
    "As a reminder $\\Delta Wt = (W_t - W_{t-1})$ is an Brownian increment which are iid and follow $\\N(0, dt)$ (check)\n",
    "\n",
    "For $X$:\n",
    "$$X_{t} = X_t + \\sigma\\cdot(W_t - W_{t-1}) = X_0 + \\sigma\\cdot\\Delta W \\sim \\N(0, \\sigma^2t)$$"
   ]
  },
  {
   "cell_type": "code",
   "execution_count": null,
   "metadata": {},
   "outputs": [],
   "source": [
    "import seaborn as sns\n",
    "import matplotlib.pyplot as plt\n",
    "\n",
    "plt.figure(\n",
    "    figsize = (10, 5)\n",
    ")\n",
    "sns.boxplot(\n",
    "    x = 'dt',\n",
    "    y = 'xt',\n",
    "    data = test_df, \n",
    "    hue = 'sigma',\n",
    "    showfliers = False\n",
    ")\n",
    "plt.xticks(\n",
    "    rotation = 90\n",
    ")\n",
    "plt.show()"
   ]
  },
  {
   "attachments": {},
   "cell_type": "markdown",
   "metadata": {},
   "source": [
    "### Check zerobond values\n"
   ]
  },
  {
   "cell_type": "code",
   "execution_count": null,
   "metadata": {},
   "outputs": [],
   "source": [
    "plt.figure(\n",
    "    figsize = (10, 5)\n",
    ")\n",
    "sns.boxplot(\n",
    "    x = 'dt',\n",
    "    y = 'V',\n",
    "    data = test_df, \n",
    "    hue = 'sigma',\n",
    "    showfliers = False\n",
    ")\n",
    "plt.xticks(\n",
    "    rotation = 90\n",
    ")\n",
    "plt.show()"
   ]
  },
  {
   "cell_type": "code",
   "execution_count": null,
   "metadata": {},
   "outputs": [],
   "source": [
    "plt.figure(\n",
    "    figsize = (10, 5)\n",
    ")\n",
    "sns.boxplot(\n",
    "    x = 'dt',\n",
    "    y = 'V_est',\n",
    "    data = test_df, \n",
    "    hue = 'sigma',\n",
    "    showfliers = False\n",
    ")\n",
    "plt.xticks(\n",
    "    rotation = 90\n",
    ")\n",
    "plt.show()"
   ]
  },
  {
   "attachments": {},
   "cell_type": "markdown",
   "metadata": {},
   "source": [
    "## MAE analysis per time"
   ]
  },
  {
   "cell_type": "code",
   "execution_count": null,
   "metadata": {},
   "outputs": [],
   "source": [
    "def mse(x, y):\n",
    "    return np.mean((x - y)**2)\n",
    "\n",
    "def mae(x, y):\n",
    "    return np.mean(np.abs(x - y))\n",
    "\n",
    "def mape(x, y):\n",
    "    return np.mean(np.abs(x - y) / y)\n",
    "\n",
    "print(f'MAE: {mae(test_df.V_est, test_df.V)}')\n",
    "print(f'MAPE: {mape(test_df.V_est, test_df.V)}')"
   ]
  },
  {
   "cell_type": "code",
   "execution_count": null,
   "metadata": {},
   "outputs": [],
   "source": [
    "plt.figure(\n",
    "    figsize = (15, 5)\n",
    ")\n",
    "sns.boxplot(\n",
    "    x = 'dt',\n",
    "    y = 'pae',\n",
    "    data = test_df,\n",
    "    hue = 'sigma',\n",
    "    showfliers = False\n",
    ")\n",
    "plt.xticks(\n",
    "    rotation = 90\n",
    ")\n",
    "plt.show()"
   ]
  },
  {
   "cell_type": "code",
   "execution_count": null,
   "metadata": {},
   "outputs": [],
   "source": []
  }
 ],
 "metadata": {
  "kernelspec": {
   "display_name": ".venv",
   "language": "python",
   "name": "python3"
  },
  "language_info": {
   "codemirror_mode": {
    "name": "ipython",
    "version": 3
   },
   "file_extension": ".py",
   "mimetype": "text/x-python",
   "name": "python",
   "nbconvert_exporter": "python",
   "pygments_lexer": "ipython3",
   "version": "3.9.13"
  },
  "orig_nbformat": 4
 },
 "nbformat": 4,
 "nbformat_minor": 2
}
